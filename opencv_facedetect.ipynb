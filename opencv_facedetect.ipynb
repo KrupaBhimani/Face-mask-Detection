{
 "cells": [
  {
   "cell_type": "code",
   "execution_count": 1,
   "metadata": {},
   "outputs": [
    {
     "name": "stdout",
     "output_type": "stream",
     "text": [
      "Requirement already satisfied: opencv-python in c:\\users\\krupa\\anaconda3\\lib\\site-packages (4.4.0.42)\n",
      "Requirement already satisfied: numpy>=1.14.5 in c:\\users\\krupa\\anaconda3\\lib\\site-packages (from opencv-python) (1.18.1)\n",
      "Note: you may need to restart the kernel to use updated packages.\n"
     ]
    }
   ],
   "source": [
    "pip install opencv-python"
   ]
  },
  {
   "cell_type": "code",
   "execution_count": 2,
   "metadata": {},
   "outputs": [],
   "source": [
    " import cv2"
   ]
  },
  {
   "cell_type": "code",
   "execution_count": 3,
   "metadata": {},
   "outputs": [],
   "source": [
    "img = cv2.imread(\"C:\\\\Users\\\\KRUPA\\\\Documents\\\\SGP\\\\krupa.jpeg\",1)"
   ]
  },
  {
   "cell_type": "code",
   "execution_count": null,
   "metadata": {},
   "outputs": [],
   "source": []
  },
  {
   "cell_type": "code",
   "execution_count": 4,
   "metadata": {},
   "outputs": [
    {
     "name": "stdout",
     "output_type": "stream",
     "text": [
      "[[[236 210 173]\n",
      "  [236 210 173]\n",
      "  [236 210 173]\n",
      "  ...\n",
      "  [242 207 163]\n",
      "  [242 207 163]\n",
      "  [242 207 163]]\n",
      "\n",
      " [[236 210 173]\n",
      "  [236 210 173]\n",
      "  [236 210 173]\n",
      "  ...\n",
      "  [242 207 163]\n",
      "  [242 207 163]\n",
      "  [242 207 163]]\n",
      "\n",
      " [[236 210 173]\n",
      "  [236 210 173]\n",
      "  [236 210 173]\n",
      "  ...\n",
      "  [242 207 163]\n",
      "  [242 207 163]\n",
      "  [242 207 163]]\n",
      "\n",
      " ...\n",
      "\n",
      " [[ 28  66  78]\n",
      "  [ 28  66  78]\n",
      "  [ 27  64  78]\n",
      "  ...\n",
      "  [ 77 164 184]\n",
      "  [ 77 164 184]\n",
      "  [ 77 164 184]]\n",
      "\n",
      " [[ 29  67  79]\n",
      "  [ 26  66  78]\n",
      "  [ 25  64  78]\n",
      "  ...\n",
      "  [ 77 164 184]\n",
      "  [ 77 164 184]\n",
      "  [ 77 164 184]]\n",
      "\n",
      " [[ 27  67  79]\n",
      "  [ 26  66  78]\n",
      "  [ 25  65  77]\n",
      "  ...\n",
      "  [ 75 162 182]\n",
      "  [ 75 162 182]\n",
      "  [ 75 162 182]]]\n"
     ]
    }
   ],
   "source": [
    "print((img))"
   ]
  },
  {
   "cell_type": "code",
   "execution_count": 5,
   "metadata": {},
   "outputs": [
    {
     "name": "stdout",
     "output_type": "stream",
     "text": [
      "(633, 699, 3)\n"
     ]
    }
   ],
   "source": [
    "print(img.shape)"
   ]
  },
  {
   "cell_type": "code",
   "execution_count": 6,
   "metadata": {},
   "outputs": [],
   "source": [
    "cv2.imshow(\"new\",img)\n",
    "cv2.waitKey(2000)\n",
    "cv2.destroyAllWindows()"
   ]
  },
  {
   "cell_type": "code",
   "execution_count": 7,
   "metadata": {},
   "outputs": [],
   "source": [
    "resized = cv2.resize(img,(int(img.shape[1]/2),int(img.shape[0]/2)))\n",
    "cv2.imshow(\"new\",resized)\n",
    "cv2.waitKey(2000)\n",
    "cv2.destroyAllWindows()"
   ]
  },
  {
   "cell_type": "code",
   "execution_count": 8,
   "metadata": {},
   "outputs": [],
   "source": [
    "#create cascade classifier object\n",
    "face_cascade = cv2.CascadeClassifier(\"C:\\\\Users\\\\KRUPA\\\\Documents\\\\SGP\\\\haarcascade_frontalface_default.xml\")\n",
    "#reading img as gray scale img\n",
    "gray_img = cv2.cvtColor(img, cv2.COLOR_BGR2GRAY) \n",
    "#search co ordinates of img\n",
    "faces = face_cascade.detectMultiScale(gray_img, scaleFactor = 1.05, minNeighbors=5)"
   ]
  },
  {
   "cell_type": "code",
   "execution_count": 9,
   "metadata": {},
   "outputs": [
    {
     "name": "stdout",
     "output_type": "stream",
     "text": [
      "<class 'numpy.ndarray'>\n"
     ]
    }
   ],
   "source": [
    "print(type(faces))"
   ]
  },
  {
   "cell_type": "code",
   "execution_count": 10,
   "metadata": {},
   "outputs": [
    {
     "name": "stdout",
     "output_type": "stream",
     "text": [
      "[[296 247 166 166]]\n"
     ]
    }
   ],
   "source": [
    "print(faces)"
   ]
  },
  {
   "cell_type": "code",
   "execution_count": 11,
   "metadata": {},
   "outputs": [],
   "source": [
    "# add rectangle face arround it\n",
    "for x,y,w,h in faces:\n",
    "    img = cv2.rectangle(img, (x,y) , (x+y,y+h),(0,255,0),3)"
   ]
  },
  {
   "cell_type": "code",
   "execution_count": 12,
   "metadata": {},
   "outputs": [],
   "source": [
    "resized = cv2.resize(img,(int(img.shape[1]/2),int(img.shape[0]/2)))\n",
    "cv2.imshow(\"new\",resized)\n",
    "cv2.waitKey(0)\n",
    "cv2.destroyAllWindows()"
   ]
  },
  {
   "cell_type": "code",
   "execution_count": null,
   "metadata": {},
   "outputs": [],
   "source": []
  },
  {
   "cell_type": "markdown",
   "metadata": {},
   "source": []
  }
 ],
 "metadata": {
  "kernelspec": {
   "display_name": "Python 3",
   "language": "python",
   "name": "python3"
  },
  "language_info": {
   "codemirror_mode": {
    "name": "ipython",
    "version": 3
   },
   "file_extension": ".py",
   "mimetype": "text/x-python",
   "name": "python",
   "nbconvert_exporter": "python",
   "pygments_lexer": "ipython3",
   "version": "3.7.6"
  }
 },
 "nbformat": 4,
 "nbformat_minor": 4
}
