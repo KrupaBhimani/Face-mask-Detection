{
 "cells": [
  {
   "cell_type": "code",
   "execution_count": 2,
   "metadata": {},
   "outputs": [],
   "source": [
    "import cv2,time"
   ]
  },
  {
   "cell_type": "code",
   "execution_count": 3,
   "metadata": {},
   "outputs": [],
   "source": [
    "face_cascade = cv2.CascadeClassifier(\"C:\\\\Users\\\\KRUPA\\\\Documents\\\\SGP\\\\haarcascade_frontalface_default.xml\")"
   ]
  },
  {
   "cell_type": "code",
   "execution_count": 4,
   "metadata": {},
   "outputs": [],
   "source": [
    "#method to create Videocapture object. it will trigger the camera\n",
    "#in  argument either give a path to video file or give numbers.\n",
    "#number will specify that you will be useing the webcam to capure video\n",
    "# 0 is to specify that use built-in camera\n",
    "video=cv2.VideoCapture(0)"
   ]
  },
  {
   "cell_type": "code",
   "execution_count": null,
   "metadata": {},
   "outputs": [],
   "source": [
    "while(True):\n",
    "    ret,frame=video.read()\n",
    "    cv2.imshow('bhimani',frame)\n",
    "    gray_img = cv2.cvtColor(frame, cv2.COLOR_BGR2GRAY)\n",
    "    face = face_cascade.detectMultiScale(gray_img, scaleFactor=1.05, minNeighbors=5)\n",
    "    for x, y, w, h in face:\n",
    "        cv2.rectangle(frame, (x, y), (x + w, y + h), (0, 255, 0), 5)\n",
    "    cv2.imshow('bhimani', frame)\n",
    "    if cv2.waitKey(20) & 0xFF == ord('q'):\n",
    "        break\n",
    "\n",
    "\n",
    "#this will relase the camera in some milliseconds\n",
    "video.release()\n",
    "cv2.destroyAllWindows()"
   ]
  }
 ],
 "metadata": {
  "kernelspec": {
   "display_name": "Python 3",
   "language": "python",
   "name": "python3"
  },
  "language_info": {
   "codemirror_mode": {
    "name": "ipython",
    "version": 3
   },
   "file_extension": ".py",
   "mimetype": "text/x-python",
   "name": "python",
   "nbconvert_exporter": "python",
   "pygments_lexer": "ipython3",
   "version": "3.7.6"
  }
 },
 "nbformat": 4,
 "nbformat_minor": 4
}
