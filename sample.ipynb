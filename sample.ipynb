{
 "cells": [
  {
   "cell_type": "code",
   "execution_count": 18,
   "metadata": {},
   "outputs": [],
   "source": [
    "from tensorflow.keras.applications.mobilenet_v2 import preprocess_input\n",
    "from tensorflow.keras.preprocessing.image import img_to_array\n",
    "from tensorflow.keras.preprocessing.image import load_img\n",
    "from tensorflow.keras.utils import to_categorical\n",
    "from sklearn.preprocessing import LabelBinarizer\n",
    "import numpy as np"
   ]
  },
  {
   "cell_type": "code",
   "execution_count": 3,
   "metadata": {},
   "outputs": [],
   "source": [
    "import os"
   ]
  },
  {
   "cell_type": "code",
   "execution_count": 4,
   "metadata": {},
   "outputs": [],
   "source": [
    "DIRECTORY = r\"C:\\Mask Detection\\CODE\\Face-Mask-Detection-master\\dataset\"\n",
    "CATEGORIES = [\"with_mask\", \"without_mask\"]"
   ]
  },
  {
   "cell_type": "code",
   "execution_count": 5,
   "metadata": {},
   "outputs": [
    {
     "name": "stderr",
     "output_type": "stream",
     "text": [
      "C:\\Users\\KRUPA\\anaconda3\\lib\\site-packages\\PIL\\Image.py:932: UserWarning: Palette images with Transparency expressed in bytes should be converted to RGBA images\n",
      "  \"Palette images with Transparency expressed in bytes should be \"\n"
     ]
    }
   ],
   "source": [
    "data = []\n",
    "labels = []\n",
    "\n",
    "for category in CATEGORIES:\n",
    "    path = os.path.join(DIRECTORY, category) #os.path will be used to find out path\n",
    "    for img in os.listdir(path): #list down all images in particular folder\n",
    "    \timg_path = os.path.join(path, img) \n",
    "    \timage = load_img(img_path, target_size=(224, 224)) #load the image\n",
    "    \timage = img_to_array(image) #covert the image to array\n",
    "    \timage = preprocess_input(image)"
   ]
  },
  {
   "cell_type": "code",
   "execution_count": 6,
   "metadata": {},
   "outputs": [],
   "source": [
    "data.append(image)\n",
    "labels.append(category)"
   ]
  },
  {
   "cell_type": "code",
   "execution_count": 7,
   "metadata": {},
   "outputs": [
    {
     "name": "stdout",
     "output_type": "stream",
     "text": [
      "[[[ 0.90588236  0.8980392   0.88235295]\n",
      "  [ 0.8901961   0.85882354  0.8509804 ]\n",
      "  [ 0.9137255   0.84313726  0.8509804 ]\n",
      "  ...\n",
      "  [ 0.427451    0.5529412   0.81960785]\n",
      "  [ 0.36470592  0.5137255   0.77254903]\n",
      "  [ 0.30980396  0.45882356  0.7176471 ]]\n",
      "\n",
      " [[ 0.75686276  0.75686276  0.7411765 ]\n",
      "  [ 0.8509804   0.84313726  0.827451  ]\n",
      "  [ 0.9607843   0.9137255   0.9137255 ]\n",
      "  ...\n",
      "  [ 0.8745098   0.73333335  1.        ]\n",
      "  [ 0.77254903  0.6313726   1.        ]\n",
      "  [ 0.6392157   0.5137255   0.88235295]]\n",
      "\n",
      " [[ 0.8745098   0.8901961   0.88235295]\n",
      "  [ 0.827451    0.827451    0.827451  ]\n",
      "  [ 0.8509804   0.8039216   0.81960785]\n",
      "  ...\n",
      "  [ 1.          0.8980392   1.        ]\n",
      "  [ 1.          0.8117647   1.        ]\n",
      "  [ 0.92941177  0.6862745   0.92941177]]\n",
      "\n",
      " ...\n",
      "\n",
      " [[-0.827451   -0.7647059  -0.88235295]\n",
      "  [-0.6784314  -0.6313726  -0.7411765 ]\n",
      "  [-0.90588236 -0.85882354 -0.96862745]\n",
      "  ...\n",
      "  [ 0.7647059   0.7176471   0.54509807]\n",
      "  [ 0.99215686  0.94509804  0.77254903]\n",
      "  [ 1.          0.99215686  0.81960785]]\n",
      "\n",
      " [[-0.8901961  -0.8352941  -0.69411767]\n",
      "  [-0.9607843  -0.79607844 -0.8666667 ]\n",
      "  [-0.88235295 -0.69411767 -0.81960785]\n",
      "  ...\n",
      "  [ 0.7254902   0.8666667   0.8980392 ]\n",
      "  [ 0.88235295  1.          1.        ]\n",
      "  [ 0.45882356  0.69411767  0.6784314 ]]\n",
      "\n",
      " [[-0.90588236 -0.8509804  -0.70980394]\n",
      "  [-0.94509804 -0.7647059  -0.84313726]\n",
      "  [-1.         -0.81960785 -0.94509804]\n",
      "  ...\n",
      "  [-0.06666666  0.07450986  0.10588241]\n",
      "  [ 0.6392157   0.8039216   0.8117647 ]\n",
      "  [ 0.58431375  0.81960785  0.8039216 ]]]\n"
     ]
    }
   ],
   "source": [
    "print(image)"
   ]
  },
  {
   "cell_type": "code",
   "execution_count": 16,
   "metadata": {},
   "outputs": [
    {
     "name": "stdout",
     "output_type": "stream",
     "text": [
      "[[0]]\n",
      "[[1.]]\n"
     ]
    }
   ],
   "source": [
    "lb = LabelBinarizer() #this will use regression and binary classification algorithm\n",
    "labels = lb.fit_transform(labels) # this will convert the lables in form of 1,0\n",
    "print(labels)\n",
    "labels = to_categorical(labels) #this will convert the label 'wiht mask' and 'without mask' into categorical varible\n",
    "print(labels)"
   ]
  },
  {
   "cell_type": "code",
   "execution_count": 19,
   "metadata": {},
   "outputs": [
    {
     "name": "stdout",
     "output_type": "stream",
     "text": [
      "[[1.]]\n"
     ]
    }
   ],
   "source": [
    "data = np.array(data, dtype=\"float32\") #this will convert the labels into array\n",
    "labels = np.array(labels)\n",
    "print(labels)\n"
   ]
  }
 ],
 "metadata": {
  "kernelspec": {
   "display_name": "Python 3",
   "language": "python",
   "name": "python3"
  },
  "language_info": {
   "codemirror_mode": {
    "name": "ipython",
    "version": 3
   },
   "file_extension": ".py",
   "mimetype": "text/x-python",
   "name": "python",
   "nbconvert_exporter": "python",
   "pygments_lexer": "ipython3",
   "version": "3.7.6"
  }
 },
 "nbformat": 4,
 "nbformat_minor": 4
}
